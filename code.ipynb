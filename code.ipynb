{
 "cells": [
  {
   "cell_type": "markdown",
   "metadata": {},
   "source": [
    "# Machine Learning Project Report"
   ]
  },
  {
   "cell_type": "markdown",
   "metadata": {},
   "source": [
    "# 1. Environment & Dateset preparation"
   ]
  },
  {
   "cell_type": "markdown",
   "metadata": {},
   "source": [
    "## 1.1 Import libraries"
   ]
  },
  {
   "cell_type": "code",
   "execution_count": 16,
   "metadata": {},
   "outputs": [],
   "source": [
    "import os\n",
    "import glob\n",
    "import math\n",
    "import random\n",
    "import pathlib\n",
    "import importlib\n",
    "import numpy as np\n",
    "import pandas as pd\n",
    "os.environ['TF_CPP_MIN_LOG_LEVEL'] = '3'\n",
    "import tensorflow as tf\n",
    "import tensorflow.keras.layers as layers\n",
    "import tensorflow.keras.activations as activations\n",
    "import tensorflow.keras.optimizers as optimizers\n",
    "import tensorflow.keras.losses as losses\n",
    "import tensorflow.keras.metrics as metrics"
   ]
  },
  {
   "cell_type": "code",
   "execution_count": 17,
   "metadata": {},
   "outputs": [],
   "source": [
    "os.environ[\"KAGGLE_KEY\"] = '6c8ce03a58d29eae65ff234d38d43a8b'\n",
    "os.environ[\"KAGGLE_USERNAME\"] = 'orangethefish'"
   ]
  },
  {
   "cell_type": "code",
   "execution_count": 18,
   "metadata": {},
   "outputs": [
    {
     "name": "stdout",
     "output_type": "stream",
     "text": [
      "Warning: Looks like you're using an outdated API Version, please consider updating (server 1.6.12 / client 1.6.11)\n",
      "Dataset URL: https://www.kaggle.com/datasets/uciml/iris\n",
      "License(s): CC0-1.0\n",
      "iris.zip: Skipping, found more recently modified local copy (use --force to force download)\n",
      "Unzip completed\n"
     ]
    }
   ],
   "source": [
    "!kaggle datasets download -d uciml/iris\n",
    "!unzip -qq -o \"iris.zip\" -d \"dataset\"\n",
    "!echo \"Unzip completed\""
   ]
  },
  {
   "cell_type": "code",
   "execution_count": 24,
   "metadata": {},
   "outputs": [],
   "source": [
    "import pandas as pd\n",
    "from sklearn.model_selection import train_test_split\n",
    "from sklearn.preprocessing import StandardScaler, OneHotEncoder\n",
    "from sklearn.compose import ColumnTransformer\n",
    "from sklearn.pipeline import Pipeline\n",
    "from sklearn.impute import SimpleImputer\n",
    "\n",
    "def preprocess_dataset(df, target_variable, test_size=0.2, random_state=None):\n",
    "    \"\"\"\n",
    "    General preprocessing pipeline for a dataset to handle missing values, encoding categorical variables, \n",
    "    and scaling numerical features.\n",
    "\n",
    "    Parameters:\n",
    "    - df: Pandas DataFrame containing the dataset.\n",
    "    - target_variable: The name of the column to be used as the target variable.\n",
    "    - test_size: Proportion of the dataset to include in the test split.\n",
    "    - random_state: Controls the shuffling applied to the data before applying the split.\n",
    "\n",
    "    Returns:\n",
    "    - X_train, X_test, y_train, y_test: preprocessed split data.\n",
    "    \"\"\"\n",
    "    \n",
    "    # Separate features and target variable\n",
    "    X = df.drop(columns=[target_variable])\n",
    "    y = df[target_variable]\n",
    "    \n",
    "    # Splitting the dataset into training and testing sets\n",
    "    X_train, X_test, y_train, y_test = train_test_split(X, y, test_size=test_size, random_state=random_state)\n",
    "    \n",
    "    # Identifying numerical and categorical columns\n",
    "    numeric_features = X.select_dtypes(include=['int64', 'float64']).columns\n",
    "    categorical_features = X.select_dtypes(include=['object', 'category']).columns\n",
    "    \n",
    "    # Creating transformers for numerical and categorical features\n",
    "    numeric_transformer = Pipeline(steps=[\n",
    "        ('imputer', SimpleImputer(strategy='median')),\n",
    "        ('scaler', StandardScaler())\n",
    "    ])\n",
    "    \n",
    "    categorical_transformer = Pipeline(steps=[\n",
    "        ('imputer', SimpleImputer(strategy='constant', fill_value='missing')),\n",
    "        ('onehot', OneHotEncoder(handle_unknown='ignore'))\n",
    "    ])\n",
    "    \n",
    "    # Combining transformers into a ColumnTransformer\n",
    "    preprocessor = ColumnTransformer(\n",
    "        transformers=[\n",
    "            ('num', numeric_transformer, numeric_features),\n",
    "            ('cat', categorical_transformer, categorical_features)\n",
    "        ])\n",
    "    \n",
    "    # Applying the ColumnTransformer to the training and testing sets\n",
    "    X_train = preprocessor.fit_transform(X_train)\n",
    "    X_test = preprocessor.transform(X_test)\n",
    "    \n",
    "    return X_train, X_test, y_train, y_test\n",
    "\n",
    "# Example usage with the Iris dataset\n",
    "from sklearn.datasets import load_iris\n",
    "iris = load_iris()\n",
    "df_iris = pd.DataFrame(data= np.c_[iris['data'], iris['target']],\n",
    "                     columns= iris['feature_names'] + ['target'])\n",
    "\n",
    "X_train, X_test, y_train, y_test = preprocess_dataset(df_iris, 'target')"
   ]
  },
  {
   "cell_type": "code",
   "execution_count": 25,
   "metadata": {},
   "outputs": [
    {
     "name": "stdout",
     "output_type": "stream",
     "text": [
      "Accuracy: 0.9333333333333333\n"
     ]
    }
   ],
   "source": [
    "import numpy as np\n",
    "\n",
    "class GaussianNaiveBayes:\n",
    "    def fit(self, X, y):\n",
    "        # Separate the data by class\n",
    "        self.classes = np.unique(y)\n",
    "        self.parameters = {}\n",
    "        \n",
    "        for c in self.classes:\n",
    "            X_c = X[y == c]\n",
    "            self.parameters[c] = {\n",
    "                'mean': X_c.mean(axis=0),\n",
    "                'var': X_c.var(axis=0),\n",
    "                'prior': X_c.shape[0] / X.shape[0]\n",
    "            }\n",
    "            \n",
    "    def calculate_likelihood(self, class_idx, x):\n",
    "        mean = self.parameters[class_idx][\"mean\"]\n",
    "        var = self.parameters[class_idx][\"var\"]\n",
    "        numerator = np.exp(-(x-mean)**2 / (2 * var))\n",
    "        denominator = np.sqrt(2 * np.pi * var)\n",
    "        return numerator / denominator\n",
    "    \n",
    "    def calculate_posterior(self, x):\n",
    "        posteriors = []\n",
    "        \n",
    "        for c in self.classes:\n",
    "            prior = np.log(self.parameters[c][\"prior\"])\n",
    "            conditional_prob = np.sum(np.log(self.calculate_likelihood(c, x)))\n",
    "            posteriors.append(prior + conditional_prob)\n",
    "            \n",
    "        return self.classes[np.argmax(posteriors)]\n",
    "    \n",
    "    def predict(self, X):\n",
    "        return [self.calculate_posterior(x) for x in X]\n",
    "\n",
    "# Assume `X_train`, `y_train` contains the training data and labels\n",
    "nb = GaussianNaiveBayes()\n",
    "nb.fit(X_train, y_train)\n",
    "\n",
    "# To predict the class of a new sample:\n",
    "predictions = nb.predict(X_test)\n",
    "accuracy = np.mean(predictions == y_test)\n",
    "print(f\"Accuracy: {accuracy}\")"
   ]
  }
 ],
 "metadata": {
  "kernelspec": {
   "display_name": "Python 3",
   "language": "python",
   "name": "python3"
  },
  "language_info": {
   "codemirror_mode": {
    "name": "ipython",
    "version": 3
   },
   "file_extension": ".py",
   "mimetype": "text/x-python",
   "name": "python",
   "nbconvert_exporter": "python",
   "pygments_lexer": "ipython3",
   "version": "3.10.12"
  }
 },
 "nbformat": 4,
 "nbformat_minor": 2
}
